{
 "cells": [
  {
   "cell_type": "markdown",
   "metadata": {},
   "source": [
    "## TextAugmentor: Data Augmentation for Text Fields with Google AI API\n",
    "\n",
    "This library empowers you to augment text data using Google AI's Generative API, creatively rephrasing text while preserving key information. Here's a breakdown of its core functionalities and usage:\n",
    "\n",
    "**Import:**"
   ]
  },
  {
   "cell_type": "code",
   "execution_count": 1,
   "metadata": {},
   "outputs": [],
   "source": [
    "from AIDataAugment.TextAugmentor import TextAugmentor"
   ]
  },
  {
   "cell_type": "markdown",
   "metadata": {},
   "source": [
    "**Class Initialization:**"
   ]
  },
  {
   "cell_type": "code",
   "execution_count": 2,
   "metadata": {},
   "outputs": [],
   "source": [
    "# Replace 'YOUR_API_KEY' with your actual Google AI API key\n",
    "text_augmenter = TextAugmentor(api_key='YOUR_API_KEY')"
   ]
  },
  {
   "cell_type": "markdown",
   "metadata": {},
   "source": [
    "### Core Functionalities:\n",
    "\n",
    "1. **`augment_string(text, num_augmentations)`**\n",
    "\n",
    "   - Augments a single text string.\n",
    "   - Generates `num_augmentations` reformulated versions of the input text.\n",
    "   - Maintains core information while expressing it differently.\n",
    "\n",
    "   **Arguments:**\n",
    "\n",
    "     - `text`: The text string to augment (string).\n",
    "     - `num_augmentations`: Number of desired augmented text variations (integer).\n",
    "\n",
    "   **Returns:**\n",
    "\n",
    "     - A list of augmented text strings (if successful), otherwise an empty list.\n",
    "\n",
    "   **Example:**"
   ]
  },
  {
   "cell_type": "code",
   "execution_count": 3,
   "metadata": {},
   "outputs": [
    {
     "name": "stdout",
     "output_type": "stream",
     "text": [
      "حب عاقل أجمل\n",
      "العقل يجمّل الحب\n"
     ]
    }
   ],
   "source": [
    "original_text = \"الحب يصبح اجمل اذا حضر العقل\"\n",
    "augmented_texts = text_augmenter.augment_string(original_text, 2,language=\"عربية\")\n",
    "\n",
    "if augmented_texts:\n",
    "    for text in augmented_texts:\n",
    "        print(text)\n",
    "else:\n",
    "    print(\"Augmentation failed.\")"
   ]
  },
  {
   "cell_type": "markdown",
   "metadata": {},
   "source": [
    "2. **`augment`**\n",
    "\n",
    "   Augments the specified column of a dataset using the given parameters.\n",
    "   Supports loading data from a file or directly from a DataFrame.\n",
    "   Processes the data based on the chosen augmentation style and language.\n",
    "   Saves the results to a file if an `output_filename` is provided, or returns the augmented DataFrame.\n",
    "\n",
    "   **Signature:**\n",
    "\n",
    "   `augment(file_path=None, dataframe=None, column_to_augment=None, total_augmentations=1, style=\"standard\", language=\"EN\", output_filename=None)`\n",
    "\n",
    "   **Arguments:**\n",
    "\n",
    "   - `file_path` (optional): Path to the input file (string). Supported formats: CSV, TSV, XLS, XLSX.\n",
    "   - `dataframe` (optional): DataFrame containing the data to be augmented (pandas.DataFrame).\n",
    "   - `column_to_augment` (optional): Name of the column to augment (string).\n",
    "   - `total_augmentations` (default=1): Number of augmentations to perform on each entry (integer).\n",
    "   - `style` (default=\"standard\"): Style of augmentation to apply (string).\n",
    "   - `language` (default=\"EN\"): Language for the augmentation (string).\n",
    "   - `output_filename` (optional): Name of the file to save the augmented data (string). Supported formats: CSV, TSV, XLS, XLSX.\n",
    "\n",
    "   **Returns:**\n",
    "\n",
    "   - If `output_filename` is not provided, returns a DataFrame containing the augmented data.\n",
    "   - If `output_filename` is provided, saves the augmented data to the specified file.\n"
   ]
  },
  {
   "cell_type": "markdown",
   "metadata": {},
   "source": [
    "    1. Using a file path :"
   ]
  },
  {
   "cell_type": "code",
   "execution_count": null,
   "metadata": {},
   "outputs": [],
   "source": [
    "file_path = r'Your dataset path.'\n",
    "\n",
    "# Column that you want to augment\n",
    "column_to_augment = \"Example\"\n",
    "\n",
    "# Number of times you want to augment your data\n",
    "total_augmentations = 3\n",
    "\n",
    "# Customize your rephrasing style (default: 'standard')\n",
    "style = 'standard'\n",
    "\n",
    "# Specify the language for augmentation (default: 'EN')\n",
    "language = 'EN'\n",
    "\n",
    "# Output filename for the augmented data\n",
    "output_filename = 'augmented_data.csv'\n",
    "\n",
    "# Perform augmentation and save the result to a file\n",
    "text_augmenter.augment(\n",
    "    file_path=file_path,\n",
    "    column_to_augment=column_to_augment,\n",
    "    total_augmentations=total_augmentations,\n",
    "    style=style,\n",
    "    language=language,\n",
    "    output_filename=output_filename\n",
    ")"
   ]
  },
  {
   "cell_type": "markdown",
   "metadata": {},
   "source": [
    "    2. Using a pandas DataFrame"
   ]
  },
  {
   "cell_type": "code",
   "execution_count": null,
   "metadata": {},
   "outputs": [],
   "source": [
    "import pandas as pd\n",
    "\n",
    "\n",
    "# Your pandas DataFrame\n",
    "df = pd.read_csv('your_dataset.csv')\n",
    "\n",
    "# Column that you want to augment\n",
    "column_to_augment = \"Example\"\n",
    "\n",
    "# Number of times you want to augment your data\n",
    "total_augmentations = 3\n",
    "\n",
    "# Customize your rephrasing style (default: 'standard')\n",
    "style = 'standard'\n",
    "\n",
    "# Specify the language for augmentation (default: 'EN')\n",
    "language = 'EN'\n",
    "\n",
    "# Perform augmentation and return the augmented DataFrame\n",
    "augmented_df = text_augmenter.augment(\n",
    "    dataframe=df,\n",
    "    column_to_augment=column_to_augment,\n",
    "    total_augmentations=total_augmentations,\n",
    "    style=style,\n",
    "    language=language\n",
    ")"
   ]
  }
 ],
 "metadata": {
  "kernelspec": {
   "display_name": "Python 3",
   "language": "python",
   "name": "python3"
  },
  "language_info": {
   "codemirror_mode": {
    "name": "ipython",
    "version": 3
   },
   "file_extension": ".py",
   "mimetype": "text/x-python",
   "name": "python",
   "nbconvert_exporter": "python",
   "pygments_lexer": "ipython3",
   "version": "3.11.3"
  }
 },
 "nbformat": 4,
 "nbformat_minor": 2
}
