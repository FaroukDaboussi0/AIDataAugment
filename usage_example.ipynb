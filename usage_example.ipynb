{
 "cells": [
  {
   "cell_type": "markdown",
   "metadata": {},
   "source": [
    "## TextAugmentor: Data Augmentation for Text Fields with Google AI API\n",
    "\n",
    "This library empowers you to augment text data using Google AI's Generative API, creatively rephrasing text while preserving key information. Here's a breakdown of its core functionalities and usage:\n",
    "\n",
    "**Import:**"
   ]
  },
  {
   "cell_type": "code",
   "execution_count": 2,
   "metadata": {},
   "outputs": [],
   "source": [
    "from TextAugmentor import TextAugmentor"
   ]
  },
  {
   "cell_type": "markdown",
   "metadata": {},
   "source": [
    "**Class Initialization:**"
   ]
  },
  {
   "cell_type": "code",
   "execution_count": 3,
   "metadata": {},
   "outputs": [],
   "source": [
    "# Replace 'YOUR_API_KEY' with your actual Google AI API key\n",
    "text_augmenter = TextAugmentor(api_key='YOUR_API_KEY')"
   ]
  },
  {
   "cell_type": "markdown",
   "metadata": {},
   "source": [
    "### Core Functionalities:\n",
    "\n",
    "1. **`augment_string(text, num_augmentations)`**\n",
    "\n",
    "   - Augments a single text string.\n",
    "   - Generates `num_augmentations` reformulated versions of the input text.\n",
    "   - Maintains core information while expressing it differently.\n",
    "\n",
    "   **Arguments:**\n",
    "\n",
    "     - `text`: The text string to augment (string).\n",
    "     - `num_augmentations`: Number of desired augmented text variations (integer).\n",
    "\n",
    "   **Returns:**\n",
    "\n",
    "     - A list of augmented text strings (if successful), otherwise an empty list.\n",
    "\n",
    "   **Example:**"
   ]
  },
  {
   "cell_type": "code",
   "execution_count": 8,
   "metadata": {},
   "outputs": [
    {
     "name": "stdout",
     "output_type": "stream",
     "text": [
      "عقلانية الحب تزيد جماله\n",
      "الحب بالعقل أجمل بكثير\n"
     ]
    }
   ],
   "source": [
    "original_text = \"الحب يصبح اجمل اذا حضر العقل\"\n",
    "augmented_texts = text_augmenter.augment_string(original_text, 2,language=\"عربية\")\n",
    "\n",
    "if augmented_texts:\n",
    "    for text in augmented_texts:\n",
    "        print(text)\n",
    "else:\n",
    "    print(\"Augmentation failed.\")"
   ]
  },
  {
   "cell_type": "markdown",
   "metadata": {},
   "source": [
    "2. **`load_data(file_path=None, dataframe=None)`**\n",
    "\n",
    "   - Loads your data for augmentation.\n",
    "   - Accepts either a file path or a Pandas DataFrame.\n",
    "   - Supports CSV, TSV, XLS, and XLSX file formats.\n",
    "\n",
    "   **Arguments:**\n",
    "\n",
    "     - `file_path` (optional): Path to your data file (string).\n",
    "     - `dataframe` (optional): A Pandas DataFrame containing your data (pandas.core.frame.DataFrame).\n",
    "\n",
    "   **Returns:**\n",
    "\n",
    "     - `None` (data is loaded internally).\n",
    "\n",
    "   **Raises `ValueError` if:**\n",
    "\n",
    "     - Neither `file_path` nor `dataframe` is provided.\n",
    "     - The file format is unsupported.\n",
    "\n",
    "   **Example (using a CSV file):**\n",
    "\n",
    "   \n",
    "\n"
   ]
  },
  {
   "cell_type": "markdown",
   "metadata": {},
   "source": [
    "   **Example (using a Pandas DataFrame):**"
   ]
  },
  {
   "cell_type": "code",
   "execution_count": 4,
   "metadata": {},
   "outputs": [],
   "source": [
    "import pandas as pd\n",
    "\n",
    "data = pd.DataFrame({\"text_column\": [\"dogs can be more loyel than humans.\", \"cats can make the world so much better.\"]})\n",
    "text_augmenter.load_data(dataframe=data)"
   ]
  },
  {
   "cell_type": "markdown",
   "metadata": {},
   "source": [
    "3. **`process_data(column_to_augment, total_augmentations)`**\n",
    "\n",
    "   - Performs text augmentation on loaded data.\n",
    "   - Modifies the specified column with augmented text versions.\n",
    "\n",
    "   **Arguments:**\n",
    "\n",
    "     - `column_to_augment`: Name of the column containing text to augment (string).\n",
    "     - `total_augmentations`: Total number of augmented versions per text entry (integer).\n",
    "\n",
    "   **Returns:**\n",
    "\n",
    "     - `None` (augmented data is stored internally).\n",
    "\n",
    "   **Raises `ValueError` if:**\n",
    "\n",
    "     - `column_to_augment` doesn't exist in the DataFrame.\n",
    "\n",
    "   **Example:**"
   ]
  },
  {
   "cell_type": "code",
   "execution_count": 5,
   "metadata": {},
   "outputs": [
    {
     "name": "stdout",
     "output_type": "stream",
     "text": [
      "1 / 2"
     ]
    },
    {
     "name": "stdout",
     "output_type": "stream",
     "text": [
      "2 / 2"
     ]
    },
    {
     "name": "stderr",
     "output_type": "stream",
     "text": [
      "INFO:TextAugmentor.TextAugmentor:\n",
      "Data augmentation complete.\n"
     ]
    },
    {
     "name": "stdout",
     "output_type": "stream",
     "text": [
      "\n"
     ]
    }
   ],
   "source": [
    " # Assuming you loaded data with a column named \"text\"\n",
    "text_augmenter.process_data(column_to_augment=\"text_column\", total_augmentations=2)"
   ]
  },
  {
   "cell_type": "code",
   "execution_count": 6,
   "metadata": {},
   "outputs": [
    {
     "name": "stdout",
     "output_type": "stream",
     "text": [
      "                                 text_column\n",
      "0       Dog loyalty surpasses human loyalty.\n",
      "1     Humans aren't always as loyal as dogs.\n",
      "2  Cats enhance writing with their presence.\n",
      "3   Words are improved by feline companions.\n"
     ]
    }
   ],
   "source": [
    "df = text_augmenter.save_data()\n",
    "print(df)"
   ]
  },
  {
   "cell_type": "markdown",
   "metadata": {},
   "source": [
    "4. **`save_data(output_filename=None)`**\n",
    "\n",
    "   - Saves the augmented data to a file.\n",
    "   - Output format is inferred from the filename extension.\n",
    "\n",
    "   **Arguments:**\n",
    "\n",
    "     - `output_filename` (optional): Desired filename for augmented data (string). If not provided, a default filename with timestamp is generated.\n",
    "\n",
    "   **Returns:**\n",
    "\n",
    "     - `None` (data is saved to the specified file).\n",
    "\n",
    "   **Raises `ValueError` if:**\n",
    "\n",
    "     - The output file format is unsupported (CSV, TSV, XLS, XLSX).\n",
    "\n",
    "   **Example:**\n",
    "\n",
    "   ```python\n",
    "   text_augmenter.save_data(\"augmented_data.csv\")\n",
    "   ```\n",
    "\n",
    "### Complete Example:"
   ]
  },
  {
   "cell_type": "code",
   "execution_count": null,
   "metadata": {},
   "outputs": [],
   "source": [
    "\n",
    "\n",
    "# Replace 'YOUR_API_KEY' with your actual Google AI API key\n",
    "text_augmenter = TextAugmentor(api_key='YOUR_API_KEY')\n",
    "\n",
    "text_augmenter.load_data(file_path=\"your_data.csv\")  # Or use load_data(dataframe=your_dataframe)\n",
    "\n",
    "text_augmenter.process_data(column_to_augment=\"text\", total_augmentations=2)\n",
    "\n",
    "text_augmenter.save_data(\"augmented_data.csv\")\n",
    "\n",
    "print(\"Data augmentation complete! Check the 'augmented_data.csv' file.\")"
   ]
  }
 ],
 "metadata": {
  "kernelspec": {
   "display_name": "Python 3",
   "language": "python",
   "name": "python3"
  },
  "language_info": {
   "codemirror_mode": {
    "name": "ipython",
    "version": 3
   },
   "file_extension": ".py",
   "mimetype": "text/x-python",
   "name": "python",
   "nbconvert_exporter": "python",
   "pygments_lexer": "ipython3",
   "version": "3.11.3"
  }
 },
 "nbformat": 4,
 "nbformat_minor": 2
}
